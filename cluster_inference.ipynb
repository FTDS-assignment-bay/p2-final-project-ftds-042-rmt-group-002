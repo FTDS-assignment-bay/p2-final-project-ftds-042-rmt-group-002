{
 "cells": [
  {
   "cell_type": "markdown",
   "id": "3d9e9d8b",
   "metadata": {},
   "source": [
    "## **Model Inference**\n",
    "Pada tahap ini, saya akan menggunakan model dan komponen preprocessing yang sudah disimpan pada tahap sebelumnya untuk membuat prediksi nasabah baru ini masuk ke dalam segmentasi/cluster mana. "
   ]
  },
  {
   "cell_type": "code",
   "execution_count": 8,
   "id": "9626254a",
   "metadata": {},
   "outputs": [],
   "source": [
    "# Import Libraries\n",
    "import joblib\n",
    "import pandas as pd\n",
    "\n",
    "# Mengabaikan warning\n",
    "import warnings\n",
    "warnings.filterwarnings('ignore')"
   ]
  },
  {
   "cell_type": "markdown",
   "id": "88cb18cd",
   "metadata": {},
   "source": [
    "**1. Load model**\n"
   ]
  },
  {
   "cell_type": "code",
   "execution_count": 9,
   "id": "d73c0b74",
   "metadata": {},
   "outputs": [],
   "source": [
    "model = joblib.load('cluster_model.pkl')"
   ]
  },
  {
   "cell_type": "markdown",
   "id": "eb2cf735",
   "metadata": {},
   "source": [
    "**2. Mengisi data user baru**"
   ]
  },
  {
   "cell_type": "code",
   "execution_count": 10,
   "id": "27b5aabe",
   "metadata": {},
   "outputs": [
    {
     "data": {
      "application/vnd.microsoft.datawrangler.viewer.v0+json": {
       "columns": [
        {
         "name": "index",
         "rawType": "int64",
         "type": "integer"
        },
        {
         "name": "subscription_length",
         "rawType": "int64",
         "type": "integer"
        },
        {
         "name": "seconds_of_use",
         "rawType": "int64",
         "type": "integer"
        },
        {
         "name": "frequency_of_use",
         "rawType": "int64",
         "type": "integer"
        },
        {
         "name": "distinct_called_numbers",
         "rawType": "int64",
         "type": "integer"
        },
        {
         "name": "customer_value",
         "rawType": "float64",
         "type": "float"
        },
        {
         "name": "age_group",
         "rawType": "int64",
         "type": "integer"
        },
        {
         "name": "complains",
         "rawType": "int64",
         "type": "integer"
        },
        {
         "name": "tariff_plan",
         "rawType": "int64",
         "type": "integer"
        },
        {
         "name": "status",
         "rawType": "int64",
         "type": "integer"
        }
       ],
       "ref": "e5f662d7-5a69-47db-bb53-5c775c7ee12d",
       "rows": [
        [
         "0",
         "38",
         "4370",
         "71",
         "17",
         "197.64",
         "3",
         "0",
         "1",
         "1"
        ]
       ],
       "shape": {
        "columns": 9,
        "rows": 1
       }
      },
      "text/html": [
       "<div>\n",
       "<style scoped>\n",
       "    .dataframe tbody tr th:only-of-type {\n",
       "        vertical-align: middle;\n",
       "    }\n",
       "\n",
       "    .dataframe tbody tr th {\n",
       "        vertical-align: top;\n",
       "    }\n",
       "\n",
       "    .dataframe thead th {\n",
       "        text-align: right;\n",
       "    }\n",
       "</style>\n",
       "<table border=\"1\" class=\"dataframe\">\n",
       "  <thead>\n",
       "    <tr style=\"text-align: right;\">\n",
       "      <th></th>\n",
       "      <th>subscription_length</th>\n",
       "      <th>seconds_of_use</th>\n",
       "      <th>frequency_of_use</th>\n",
       "      <th>distinct_called_numbers</th>\n",
       "      <th>customer_value</th>\n",
       "      <th>age_group</th>\n",
       "      <th>complains</th>\n",
       "      <th>tariff_plan</th>\n",
       "      <th>status</th>\n",
       "    </tr>\n",
       "  </thead>\n",
       "  <tbody>\n",
       "    <tr>\n",
       "      <th>0</th>\n",
       "      <td>38</td>\n",
       "      <td>4370</td>\n",
       "      <td>71</td>\n",
       "      <td>17</td>\n",
       "      <td>197.64</td>\n",
       "      <td>3</td>\n",
       "      <td>0</td>\n",
       "      <td>1</td>\n",
       "      <td>1</td>\n",
       "    </tr>\n",
       "  </tbody>\n",
       "</table>\n",
       "</div>"
      ],
      "text/plain": [
       "   subscription_length  seconds_of_use  frequency_of_use  \\\n",
       "0                   38            4370                71   \n",
       "\n",
       "   distinct_called_numbers  customer_value  age_group  complains  tariff_plan  \\\n",
       "0                       17          197.64          3          0            1   \n",
       "\n",
       "   status  \n",
       "0       1  "
      ]
     },
     "execution_count": 10,
     "metadata": {},
     "output_type": "execute_result"
    }
   ],
   "source": [
    "# Pastikan semua kolom yang ada di komponen preprocessing ada di sini dengan nama yang sama persis seperti saat training.\n",
    "# Data user baru\n",
    "kolom_final_model = [\n",
    "    'subscription_length', 'seconds_of_use', 'frequency_of_use', \n",
    "    'distinct_called_numbers', 'customer_value', 'age_group',\n",
    "    'complains', 'tariff_plan', 'status'\n",
    "]\n",
    "new_user = pd.DataFrame([{\n",
    "    #'call_failure': 8, # Pastikan nama kolom ini sama persis dengan saat training\n",
    "        'subscription_length': 38,\n",
    "       # 'charge_amount': 0,\n",
    "        'seconds_of_use': 4370,\n",
    "        'frequency_of_use': 71,\n",
    "       # 'frequency_of_sms': 5,\n",
    "        'distinct_called_numbers': 17,\n",
    "        'customer_value': 197.64,\n",
    "        'age_group': 3,\n",
    "        'complains':0,\n",
    "        'tariff_plan': 1,\n",
    "        'status': 1,\n",
    "       # 'age':30,\n",
    "}])\n",
    "new_user = new_user[kolom_final_model]\n",
    "new_user"
   ]
  },
  {
   "cell_type": "markdown",
   "id": "4078b6d7",
   "metadata": {},
   "source": [
    "**3. Melakukan prediksi cluster dengan model yang sudah dilatih**"
   ]
  },
  {
   "cell_type": "code",
   "execution_count": 11,
   "id": "92819848",
   "metadata": {},
   "outputs": [
    {
     "name": "stdout",
     "output_type": "stream",
     "text": [
      "Data Input yang Benar:\n",
      "                               0\n",
      "subscription_length        38.00\n",
      "seconds_of_use           4370.00\n",
      "frequency_of_use           71.00\n",
      "distinct_called_numbers    17.00\n",
      "customer_value            197.64\n",
      "age_group                   3.00\n",
      "complains                   0.00\n",
      "tariff_plan                 1.00\n",
      "status                      1.00\n",
      "\n",
      "✅ Pelanggan baru ini diprediksi masuk ke dalam cluster: 2\n"
     ]
    }
   ],
   "source": [
    "# Melakukan prediksi \n",
    "cluster_prediction = model.predict(new_user)\n",
    "\n",
    "print(f\"Data Input yang Benar:\\n{new_user.T}\\n\")\n",
    "print(f\"✅ Pelanggan baru ini diprediksi masuk ke dalam cluster: {cluster_prediction[0]}\")"
   ]
  }
 ],
 "metadata": {
  "kernelspec": {
   "display_name": "hacktiv8",
   "language": "python",
   "name": "python3"
  },
  "language_info": {
   "codemirror_mode": {
    "name": "ipython",
    "version": 3
   },
   "file_extension": ".py",
   "mimetype": "text/x-python",
   "name": "python",
   "nbconvert_exporter": "python",
   "pygments_lexer": "ipython3",
   "version": "3.12.9"
  }
 },
 "nbformat": 4,
 "nbformat_minor": 5
}
