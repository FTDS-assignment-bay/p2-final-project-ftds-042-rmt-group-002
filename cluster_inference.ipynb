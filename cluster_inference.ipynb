{
 "cells": [
  {
   "cell_type": "markdown",
   "id": "3d9e9d8b",
   "metadata": {},
   "source": [
    "## **Model Inference**\n",
    "Pada tahap ini, saya akan menggunakan model dan komponen preprocessing yang sudah disimpan pada tahap sebelumnya untuk membuat prediksi nasabah baru ini masuk ke dalam segmentasi/cluster mana. "
   ]
  },
  {
   "cell_type": "code",
   "execution_count": 79,
   "id": "9626254a",
   "metadata": {},
   "outputs": [],
   "source": [
    "# Import Libraries\n",
    "import pickle\n",
    "import pandas as pd\n",
    "import numpy as np\n",
    "\n",
    "# Mengabaikan warning\n",
    "import warnings\n",
    "warnings.filterwarnings('ignore')"
   ]
  },
  {
   "cell_type": "markdown",
   "id": "88cb18cd",
   "metadata": {},
   "source": [
    "**1. Load model**\n"
   ]
  },
  {
   "cell_type": "code",
   "execution_count": 80,
   "id": "3f552d7d",
   "metadata": {},
   "outputs": [],
   "source": [
    "with open('kproto_bundle.pkl', 'rb') as f:\n",
    "    model_bundle = pickle.load(f)\n",
    "\n",
    "kproto = model_bundle['kproto_model']\n",
    "pca = model_bundle['pca_model']\n",
    "scaler = model_bundle['scaler']\n",
    "numerical_cols = model_bundle['numerical_cols']\n",
    "categorical_cols = model_bundle['categorical_cols']\n",
    "final_columns_order = model_bundle['final_columns_order']\n",
    "categorical_indices = model_bundle['categorical_indices']  "
   ]
  },
  {
   "cell_type": "markdown",
   "id": "eb2cf735",
   "metadata": {},
   "source": [
    "**2. Mengisi data user baru**"
   ]
  },
  {
   "cell_type": "code",
   "execution_count": 81,
   "id": "27b5aabe",
   "metadata": {},
   "outputs": [
    {
     "data": {
      "text/html": [
       "<div>\n",
       "<style scoped>\n",
       "    .dataframe tbody tr th:only-of-type {\n",
       "        vertical-align: middle;\n",
       "    }\n",
       "\n",
       "    .dataframe tbody tr th {\n",
       "        vertical-align: top;\n",
       "    }\n",
       "\n",
       "    .dataframe thead th {\n",
       "        text-align: right;\n",
       "    }\n",
       "</style>\n",
       "<table border=\"1\" class=\"dataframe\">\n",
       "  <thead>\n",
       "    <tr style=\"text-align: right;\">\n",
       "      <th></th>\n",
       "      <th>call_failure</th>\n",
       "      <th>complains</th>\n",
       "      <th>subscription_length</th>\n",
       "      <th>charge_amount</th>\n",
       "      <th>age_group</th>\n",
       "      <th>tariff_plan</th>\n",
       "      <th>status</th>\n",
       "      <th>customer_value</th>\n",
       "    </tr>\n",
       "  </thead>\n",
       "  <tbody>\n",
       "    <tr>\n",
       "      <th>0</th>\n",
       "      <td>0</td>\n",
       "      <td>0</td>\n",
       "      <td>37</td>\n",
       "      <td>0</td>\n",
       "      <td>2</td>\n",
       "      <td>1</td>\n",
       "      <td>2</td>\n",
       "      <td>40.005</td>\n",
       "    </tr>\n",
       "  </tbody>\n",
       "</table>\n",
       "</div>"
      ],
      "text/plain": [
       "   call_failure  complains  subscription_length  charge_amount  age_group  \\\n",
       "0             0          0                   37              0          2   \n",
       "\n",
       "   tariff_plan  status  customer_value  \n",
       "0            1       2          40.005  "
      ]
     },
     "execution_count": 81,
     "metadata": {},
     "output_type": "execute_result"
    }
   ],
   "source": [
    "# Pastikan semua kolom yang ada di komponen preprocessing ada di sini dengan nama yang sama persis seperti saat training.\n",
    "# Data user baru\n",
    "new_user_raw = pd.DataFrame([{\n",
    "        'call_failure': 0, # Pastikan nama kolom ini sama persis dengan saat training\n",
    "        'subscription_length': 37,\n",
    "        'seconds_of_use': 875,\n",
    "        'frequency_of_use': 14,\n",
    "        'frequency_of_sms': 0,\n",
    "        'distinct_called_numbers': 11,\n",
    "        'customer_value': 40.005,\n",
    "        'charge_amount': 0,\n",
    "        'age_group': 2,\n",
    "        'complains': 0,\n",
    "        'tariff_plan': 1,\n",
    "        'status': 2,\n",
    "        'age':25,\n",
    "}])\n",
    "new_user = new_user_raw[final_columns_order]\n",
    "new_user"
   ]
  },
  {
   "cell_type": "markdown",
   "id": "e28e2259",
   "metadata": {},
   "source": [
    "**3. Preprocessing & Predict untuk Inference**"
   ]
  },
  {
   "cell_type": "code",
   "execution_count": 82,
   "id": "31afa909",
   "metadata": {},
   "outputs": [
    {
     "name": "stdout",
     "output_type": "stream",
     "text": [
      "Final input shape: (1, 8)\n",
      "Categorical indices: [5, 6, 7]\n",
      "Data pelanggan diprediksi masuk ke dalam Klaster: 1\n"
     ]
    },
    {
     "data": {
      "text/html": [
       "<div>\n",
       "<style scoped>\n",
       "    .dataframe tbody tr th:only-of-type {\n",
       "        vertical-align: middle;\n",
       "    }\n",
       "\n",
       "    .dataframe tbody tr th {\n",
       "        vertical-align: top;\n",
       "    }\n",
       "\n",
       "    .dataframe thead th {\n",
       "        text-align: right;\n",
       "    }\n",
       "</style>\n",
       "<table border=\"1\" class=\"dataframe\">\n",
       "  <thead>\n",
       "    <tr style=\"text-align: right;\">\n",
       "      <th></th>\n",
       "      <th>0</th>\n",
       "    </tr>\n",
       "  </thead>\n",
       "  <tbody>\n",
       "    <tr>\n",
       "      <th>call_failure</th>\n",
       "      <td>0.000</td>\n",
       "    </tr>\n",
       "    <tr>\n",
       "      <th>complains</th>\n",
       "      <td>0.000</td>\n",
       "    </tr>\n",
       "    <tr>\n",
       "      <th>subscription_length</th>\n",
       "      <td>37.000</td>\n",
       "    </tr>\n",
       "    <tr>\n",
       "      <th>charge_amount</th>\n",
       "      <td>0.000</td>\n",
       "    </tr>\n",
       "    <tr>\n",
       "      <th>age_group</th>\n",
       "      <td>2.000</td>\n",
       "    </tr>\n",
       "    <tr>\n",
       "      <th>tariff_plan</th>\n",
       "      <td>1.000</td>\n",
       "    </tr>\n",
       "    <tr>\n",
       "      <th>status</th>\n",
       "      <td>2.000</td>\n",
       "    </tr>\n",
       "    <tr>\n",
       "      <th>customer_value</th>\n",
       "      <td>40.005</td>\n",
       "    </tr>\n",
       "    <tr>\n",
       "      <th>cluster</th>\n",
       "      <td>1.000</td>\n",
       "    </tr>\n",
       "  </tbody>\n",
       "</table>\n",
       "</div>"
      ],
      "text/plain": [
       "                          0\n",
       "call_failure          0.000\n",
       "complains             0.000\n",
       "subscription_length  37.000\n",
       "charge_amount         0.000\n",
       "age_group             2.000\n",
       "tariff_plan           1.000\n",
       "status                2.000\n",
       "customer_value       40.005\n",
       "cluster               1.000"
      ]
     },
     "execution_count": 82,
     "metadata": {},
     "output_type": "execute_result"
    }
   ],
   "source": [
    "# Preprocessing\n",
    "numerical_data = new_user[numerical_cols]\n",
    "categorical_data = new_user[categorical_cols].astype(str)\n",
    "\n",
    "# Transform\n",
    "num_scaled = scaler.transform(numerical_data)\n",
    "num_pca = pca.transform(num_scaled)\n",
    "\n",
    "# Gabungkan\n",
    "final_input = np.hstack([num_pca, categorical_data.to_numpy()])\n",
    "\n",
    "# Debug shape dan tipe (sementara aja)\n",
    "print(\"Final input shape:\", final_input.shape)\n",
    "print(\"Categorical indices:\", categorical_indices)\n",
    "\n",
    "# Predict\n",
    "predicted_cluster = kproto.predict(final_input, categorical=categorical_indices)\n",
    "print(f\"Data pelanggan diprediksi masuk ke dalam Klaster: {predicted_cluster[0]}\")\n",
    "\n",
    "# Tambahkan ke dataframe\n",
    "new_user['cluster'] = predicted_cluster\n",
    "new_user.T"
   ]
  }
 ],
 "metadata": {
  "kernelspec": {
   "display_name": "hacktiv8",
   "language": "python",
   "name": "python3"
  },
  "language_info": {
   "codemirror_mode": {
    "name": "ipython",
    "version": 3
   },
   "file_extension": ".py",
   "mimetype": "text/x-python",
   "name": "python",
   "nbconvert_exporter": "python",
   "pygments_lexer": "ipython3",
   "version": "3.12.9"
  }
 },
 "nbformat": 4,
 "nbformat_minor": 5
}
